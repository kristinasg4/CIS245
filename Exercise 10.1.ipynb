{
 "cells": [
  {
   "cell_type": "code",
   "execution_count": 1,
   "id": "d8f7baf8",
   "metadata": {},
   "outputs": [],
   "source": [
    "#This week we will create a program that performs file processing activities.  Your program this week will use the OS \n",
    "#library in order to validate that a directory exists before creating a file in that directory.  Your program will prompt \n",
    "#the user for the directory they would like to save the file in as well as the name of the file.  The program should then \n",
    "#prompt the user for their name, address, and phone number.  Your program will write this data to a comma separated line \n",
    "#in a file and store the file in the directory specified by the user. Once the data has been written your program \n",
    "#should read the file you just wrote to the file system and display the file contents to the user for validation purposes."
   ]
  },
  {
   "cell_type": "code",
   "execution_count": 2,
   "id": "722dc94b",
   "metadata": {},
   "outputs": [],
   "source": [
    "import shutil, os\n",
    "from pathlib import Path"
   ]
  },
  {
   "cell_type": "code",
   "execution_count": 3,
   "id": "0f785037",
   "metadata": {},
   "outputs": [
    {
     "name": "stdout",
     "output_type": "stream",
     "text": [
      "What is the file name? exercise10\n"
     ]
    }
   ],
   "source": [
    "filename = input('What is the file name? ')"
   ]
  },
  {
   "cell_type": "code",
   "execution_count": 13,
   "id": "0da6cfa8",
   "metadata": {},
   "outputs": [
    {
     "name": "stdout",
     "output_type": "stream",
     "text": [
      "Please enter the file directory as folder/subfolder1/subfolder2. documents/school/fall21/cis245\n"
     ]
    }
   ],
   "source": [
    "location = input('Please enter the file directory as folder/subfolder1/subfolder2. ')"
   ]
  },
  {
   "cell_type": "code",
   "execution_count": 5,
   "id": "b3be46be",
   "metadata": {},
   "outputs": [
    {
     "name": "stdout",
     "output_type": "stream",
     "text": [
      "What is your name? Sally\n"
     ]
    }
   ],
   "source": [
    "username = input('What is your name? ')"
   ]
  },
  {
   "cell_type": "code",
   "execution_count": 18,
   "id": "a562ef0e",
   "metadata": {
    "scrolled": true
   },
   "outputs": [
    {
     "name": "stdout",
     "output_type": "stream",
     "text": [
      "What is your phone number? 4025554444\n"
     ]
    }
   ],
   "source": [
    "phonenum = str(input('What is your phone number? '))"
   ]
  },
  {
   "cell_type": "code",
   "execution_count": 7,
   "id": "e57a3969",
   "metadata": {},
   "outputs": [
    {
     "name": "stdout",
     "output_type": "stream",
     "text": [
      "What is your address? 123 Elm St\n"
     ]
    }
   ],
   "source": [
    "address = str(input('What is your address? '))"
   ]
  },
  {
   "cell_type": "code",
   "execution_count": 14,
   "id": "d94ec649",
   "metadata": {},
   "outputs": [],
   "source": [
    "os.makedirs('C:\\\\' + location)"
   ]
  },
  {
   "cell_type": "code",
   "execution_count": 15,
   "id": "f2a64271",
   "metadata": {},
   "outputs": [],
   "source": [
    "p = Path('exercise10.txt')"
   ]
  },
  {
   "cell_type": "code",
   "execution_count": 23,
   "id": "a051a3fa",
   "metadata": {},
   "outputs": [
    {
     "data": {
      "text/plain": [
       "25"
      ]
     },
     "execution_count": 23,
     "metadata": {},
     "output_type": "execute_result"
    }
   ],
   "source": [
    "p.write_text(username + phonenum + address)"
   ]
  },
  {
   "cell_type": "code",
   "execution_count": 20,
   "id": "df18d350",
   "metadata": {},
   "outputs": [
    {
     "data": {
      "text/plain": [
       "'Sally4025554444123 Elm St'"
      ]
     },
     "execution_count": 20,
     "metadata": {},
     "output_type": "execute_result"
    }
   ],
   "source": [
    "p.read_text()"
   ]
  },
  {
   "cell_type": "code",
   "execution_count": 30,
   "id": "0d12860c",
   "metadata": {},
   "outputs": [
    {
     "data": {
      "text/plain": [
       "18"
      ]
     },
     "execution_count": 30,
     "metadata": {},
     "output_type": "execute_result"
    }
   ],
   "source": [
    "exercisefile = open('exercise10.txt', 'w')\n",
    "exercisefile.write('Adding to the list')"
   ]
  },
  {
   "cell_type": "code",
   "execution_count": 36,
   "id": "f40d5d9c",
   "metadata": {},
   "outputs": [
    {
     "data": {
      "text/plain": [
       "<function TextIOWrapper.close()>"
      ]
     },
     "execution_count": 36,
     "metadata": {},
     "output_type": "execute_result"
    }
   ],
   "source": [
    "exercisefile.close"
   ]
  },
  {
   "cell_type": "code",
   "execution_count": 37,
   "id": "f21a1f40",
   "metadata": {},
   "outputs": [
    {
     "name": "stdout",
     "output_type": "stream",
     "text": [
      "\n"
     ]
    }
   ],
   "source": [
    "exercisefile = open('exercise10.txt')\n",
    "content = exercisefile.read()\n",
    "exercisefile.close()\n",
    "print(content)"
   ]
  }
 ],
 "metadata": {
  "kernelspec": {
   "display_name": "Python 3",
   "language": "python",
   "name": "python3"
  },
  "language_info": {
   "codemirror_mode": {
    "name": "ipython",
    "version": 3
   },
   "file_extension": ".py",
   "mimetype": "text/x-python",
   "name": "python",
   "nbconvert_exporter": "python",
   "pygments_lexer": "ipython3",
   "version": "3.8.8"
  }
 },
 "nbformat": 4,
 "nbformat_minor": 5
}
